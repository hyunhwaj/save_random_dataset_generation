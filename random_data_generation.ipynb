{
 "cells": [
  {
   "cell_type": "code",
   "execution_count": 10,
   "metadata": {
    "collapsed": false
   },
   "outputs": [],
   "source": [
    "import random\n",
    "\n",
    "dna_len = 20\n",
    "gc_ratio = 0.5\n",
    "grnas = set()\n",
    "total_grna = 25\n",
    "while True:  \n",
    "    if len(grnas) >= total_grna: break\n",
    "    random_grna = \"\".join([ random.choice(\"GC\") if random.random() > gc_ratio \\\n",
    "                   else random.choice(\"AT\") \\\n",
    "                   for i in range(dna_len) ])\n",
    "    grnas.add(random_grna)"
   ]
  },
  {
   "cell_type": "code",
   "execution_count": 11,
   "metadata": {
    "collapsed": false
   },
   "outputs": [
    {
     "name": "stdout",
     "output_type": "stream",
     "text": [
      "AAACAGACAGCTACTGGAGA\n",
      "CAACTATTGCTGATCATCCT\n",
      "CATATCCGGCTCAACGGATC\n",
      "TAAGATCTTGGTCTTCGATA\n",
      "CTCGAACTCGCTGTACTGGC\n",
      "CGTCTGGGAATTCCTGGGAA\n",
      "ACTCCCTACAACAGCTCCAC\n",
      "GTGCCCAGCGCGGCGGCAAG\n",
      "AGTTAAATTGGTTTAGGCCC\n",
      "GCCCCTCCATGCCATCGCGG\n",
      "AACGTACAACAGATATCGCG\n",
      "AAAGGCAGAAATCACAACAG\n",
      "ATACACCGCACTCAAAGCTC\n",
      "AATAAATCGGGTAAGGTGCC\n",
      "TTTACTGATATGCATGGTTG\n",
      "ACGAGTCTACCTGCTACATG\n",
      "AGGATAGTCCGTACAACACC\n",
      "GTATATTGCTTCCTAAAGAT\n",
      "GGGCAACAGCACCAGAGGAG\n",
      "GTCGAACTGAAAGGACCCAC\n",
      "TAAGTACCCACGGGGTACTG\n",
      "GAAGCCCGGCAATGCGATTT\n",
      "CTGTAGAAGCTACATCGGCT\n",
      "AGCACATACACGAGCGGAAA\n",
      "TACCCGTTCAAGTCATCCGC\n"
     ]
    }
   ],
   "source": [
    "print(\"\\n\".join(grnas))"
   ]
  },
  {
   "cell_type": "code",
   "execution_count": 20,
   "metadata": {
    "collapsed": false
   },
   "outputs": [
    {
     "name": "stdout",
     "output_type": "stream",
     "text": [
      "['gRNAname', 'gRNAseq', 'Base1', 'Base2', 'Low1', 'Low2', 'High1', 'High2', 'Contam1', 'Contam2']\n"
     ]
    }
   ],
   "source": [
    "import csv\n",
    "with open(\"random_data_matrix.txt\", \"r\") as inp:\n",
    "    reader = csv.DictReader(inp, delimiter=\"\\t\")\n",
    "    fields = (reader.fieldnames)\n",
    "    print(fields)\n",
    "    rows = [ row for row in reader ]"
   ]
  },
  {
   "cell_type": "code",
   "execution_count": 21,
   "metadata": {
    "collapsed": true
   },
   "outputs": [],
   "source": [
    "# write a fasta file\n",
    "with open(\"output/small_sample.fasta\", \"w\") as oup:\n",
    "    for r in rows:\n",
    "        oup.write(\">{}\\n{}\\n\".format(r[\"gRNAname\"], r[\"gRNAseq\"]))\n",
    "    "
   ]
  },
  {
   "cell_type": "code",
   "execution_count": 32,
   "metadata": {
    "collapsed": false
   },
   "outputs": [],
   "source": [
    "adaptor_front = \"TATTTATTTTGCTACTTAATAATTGGGACT\"\n",
    "adaptor_back = \"AAAAAAATGAAGATTATAATGTGTAATTTA\"\n",
    "\n",
    "for f in fields[2:]:\n",
    "    fastq_name = \"output/{}.fastq\".format(f)\n",
    "    seqs = []\n",
    "    for r in rows:\n",
    "        for i in range(int(r[f])):\n",
    "            seqs.append(\"{}{}{}\".format(adaptor_front, r['gRNAseq'], adaptor_back))\n",
    "    random.shuffle(seqs)\n",
    "    with open(fastq_name, \"w\") as oup:\n",
    "        for i, s in enumerate(seqs):\n",
    "            oup.write(\"@{}-{}\\n\".format(f.upper(),i+1))\n",
    "            oup.write(\"{}\\n\".format(s))\n",
    "            oup.write(\"+\\n\")\n",
    "            oup.write(\"{}\\n\".format(\"I\"*len(s)))"
   ]
  },
  {
   "cell_type": "code",
   "execution_count": null,
   "metadata": {
    "collapsed": true
   },
   "outputs": [],
   "source": [
    "\"\"\"\n",
    "\"\"\""
   ]
  }
 ],
 "metadata": {
  "kernelspec": {
   "display_name": "Python 3",
   "language": "python",
   "name": "python3"
  },
  "language_info": {
   "codemirror_mode": {
    "name": "ipython",
    "version": 3
   },
   "file_extension": ".py",
   "mimetype": "text/x-python",
   "name": "python",
   "nbconvert_exporter": "python",
   "pygments_lexer": "ipython3",
   "version": "3.6.0"
  }
 },
 "nbformat": 4,
 "nbformat_minor": 2
}
