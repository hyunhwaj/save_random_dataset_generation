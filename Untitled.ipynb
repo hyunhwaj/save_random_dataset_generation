{
 "cells": [
  {
   "cell_type": "code",
   "execution_count": 10,
   "metadata": {
    "collapsed": false
   },
   "outputs": [],
   "source": [
    "import random\n",
    "\n",
    "dna_len = 20\n",
    "gc_ratio = 0.5\n",
    "grnas = set()\n",
    "total_grna = 25\n",
    "while True:  \n",
    "    if len(grnas) >= total_grna: break\n",
    "    random_grna = \"\".join([ random.choice(\"GC\") if random.random() > gc_ratio \\\n",
    "                   else random.choice(\"AT\") \\\n",
    "                   for i in range(dna_len) ])\n",
    "    grnas.add(random_grna)"
   ]
  },
  {
   "cell_type": "code",
   "execution_count": 11,
   "metadata": {
    "collapsed": false
   },
   "outputs": [
    {
     "name": "stdout",
     "output_type": "stream",
     "text": [
      "AAACAGACAGCTACTGGAGA\n",
      "CAACTATTGCTGATCATCCT\n",
      "CATATCCGGCTCAACGGATC\n",
      "TAAGATCTTGGTCTTCGATA\n",
      "CTCGAACTCGCTGTACTGGC\n",
      "CGTCTGGGAATTCCTGGGAA\n",
      "ACTCCCTACAACAGCTCCAC\n",
      "GTGCCCAGCGCGGCGGCAAG\n",
      "AGTTAAATTGGTTTAGGCCC\n",
      "GCCCCTCCATGCCATCGCGG\n",
      "AACGTACAACAGATATCGCG\n",
      "AAAGGCAGAAATCACAACAG\n",
      "ATACACCGCACTCAAAGCTC\n",
      "AATAAATCGGGTAAGGTGCC\n",
      "TTTACTGATATGCATGGTTG\n",
      "ACGAGTCTACCTGCTACATG\n",
      "AGGATAGTCCGTACAACACC\n",
      "GTATATTGCTTCCTAAAGAT\n",
      "GGGCAACAGCACCAGAGGAG\n",
      "GTCGAACTGAAAGGACCCAC\n",
      "TAAGTACCCACGGGGTACTG\n",
      "GAAGCCCGGCAATGCGATTT\n",
      "CTGTAGAAGCTACATCGGCT\n",
      "AGCACATACACGAGCGGAAA\n",
      "TACCCGTTCAAGTCATCCGC\n"
     ]
    }
   ],
   "source": [
    "print(\"\\n\".join(grnas))"
   ]
  },
  {
   "cell_type": "code",
   "execution_count": null,
   "metadata": {
    "collapsed": true
   },
   "outputs": [],
   "source": []
  }
 ],
 "metadata": {
  "kernelspec": {
   "display_name": "Python 3",
   "language": "python",
   "name": "python3"
  },
  "language_info": {
   "codemirror_mode": {
    "name": "ipython",
    "version": 3
   },
   "file_extension": ".py",
   "mimetype": "text/x-python",
   "name": "python",
   "nbconvert_exporter": "python",
   "pygments_lexer": "ipython3",
   "version": "3.6.0"
  }
 },
 "nbformat": 4,
 "nbformat_minor": 2
}
